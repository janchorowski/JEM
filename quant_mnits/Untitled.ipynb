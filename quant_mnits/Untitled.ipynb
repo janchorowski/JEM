{
 "cells": [
  {
   "cell_type": "code",
   "execution_count": 58,
   "metadata": {},
   "outputs": [],
   "source": [
    "import urllib2\n",
    "import json\n",
    "\n",
    "import jmespath"
   ]
  },
  {
   "cell_type": "code",
   "execution_count": 59,
   "metadata": {},
   "outputs": [],
   "source": [
    "c = urllib2.urlopen('http://rezerwacje.duw.pl/status_kolejek/query.php?status', )\n",
    "c = json.loads(c.read())"
   ]
  },
  {
   "cell_type": "code",
   "execution_count": 73,
   "metadata": {},
   "outputs": [
    {
     "data": {
      "text/plain": [
       "[{u'ticket_count': 0, u'ticket_value': u'', u'tickets_served': 0}]"
      ]
     },
     "execution_count": 73,
     "metadata": {},
     "output_type": "execute_result"
    }
   ],
   "source": [
    "jmespath.search(u'''result.\"Wrocław\"[?contains(@.name, 'wniosku o paszport') == `true`].{\n",
    "                    ticket_value: ticket_value, ticket_count: ticket_count, ticket_count: ticket_count, tickets_served:tickets_served}''',\n",
    "                c)"
   ]
  },
  {
   "cell_type": "code",
   "execution_count": 62,
   "metadata": {},
   "outputs": [
    {
     "data": {
      "text/plain": [
       "[{u'active': False,\n",
       "  u'average_service_time': None,\n",
       "  u'average_wait_time': None,\n",
       "  u'enabled': False,\n",
       "  u'id': 14,\n",
       "  u'location': u'Wroc\\u0142aw',\n",
       "  u'max_tickets': 295,\n",
       "  u'name': u'z\\u0142o\\u017cenie wniosku o paszport',\n",
       "  u'operations': [{u'enabled': True,\n",
       "    u'id': u'12',\n",
       "    u'name': u'z\\u0142o\\u017cenie wniosku o paszport '}],\n",
       "  u'registered_tickets': 0,\n",
       "  u'ticket_count': 0,\n",
       "  u'ticket_value': u'',\n",
       "  u'tickets_left': 295,\n",
       "  u'tickets_served': 0,\n",
       "  u'workplaces': 1}]"
      ]
     },
     "execution_count": 62,
     "metadata": {},
     "output_type": "execute_result"
    }
   ],
   "source": [
    "jmespath.search(u'''result.\"Wrocław\"[?name == 'złożenie wniosku o paszport']''', c)"
   ]
  }
 ],
 "metadata": {
  "kernelspec": {
   "display_name": "Python 2",
   "language": "python",
   "name": "python2"
  },
  "language_info": {
   "codemirror_mode": {
    "name": "ipython",
    "version": 2
   },
   "file_extension": ".py",
   "mimetype": "text/x-python",
   "name": "python",
   "nbconvert_exporter": "python",
   "pygments_lexer": "ipython2",
   "version": "2.7.15"
  }
 },
 "nbformat": 4,
 "nbformat_minor": 2
}
